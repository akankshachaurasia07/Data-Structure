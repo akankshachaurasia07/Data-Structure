{
  "nbformat": 4,
  "nbformat_minor": 0,
  "metadata": {
    "colab": {
      "provenance": []
    },
    "kernelspec": {
      "name": "python3",
      "display_name": "Python 3"
    },
    "language_info": {
      "name": "python"
    }
  },
  "cells": [
    {
      "cell_type": "code",
      "execution_count": null,
      "metadata": {
        "id": "D7LzE_lYXxKG"
      },
      "outputs": [],
      "source": []
    },
    {
      "cell_type": "markdown",
      "source": [
        "1.  Explain the difference between mutable and immutable data types with examples.\n",
        "   - Mutable data type are the objects that can be changed after they are created. You can modify their content without changing their identity.\n",
        "   Example- List ,Dictionary and Sets .\n",
        "   Immutable data types are the object that cannot be changed after they are created. Any modification will result in the creation of a new object.Example of immutable data types are the strings and tuple.\n"
      ],
      "metadata": {
        "id": "NkHWXX0ZZXvq"
      }
    },
    {
      "cell_type": "markdown",
      "source": [
        "2. What are data structures, and why are they important?\n",
        "   - Data structures are organized ways to store, manage, and retrieve data efficiently. They define the relationship between data, enabling efficient data manipulation and access. Common types of data structures include: String, List, Tuple,Dictionary and Sets. They are important because understanding and using appropriate data structures are fundamental for efficient software development, impacting performance, scalability, and overall code quality."
      ],
      "metadata": {
        "id": "6x0MXpSubgfZ"
      }
    },
    {
      "cell_type": "markdown",
      "source": [
        "3. What are the main differences between lists and tuples in Python ?\n",
        "   - Lists and tuples in Python are both used to store collections of items but differ in several key aspects. Lists are mutable, meaning their contents can be modified (e.g., adding, removing, or changing elements), and are defined using square brackets []. They offer a wide range of methods for manipulation and are generally used when the data collection needs to change.\n",
        "   On the other hand, tuples are immutable, meaning once created, their contents cannot be changed, and they are defined using parentheses (). This immutability makes tuples faster and more memory-efficient than lists, and they can be used as keys in dictionaries if they contain only hashable elements. Lists are more flexible, whereas tuples provide a level of data integrity and are often used when the data should remain constant."
      ],
      "metadata": {
        "id": "S7-Ylhpdb9te"
      }
    },
    {
      "cell_type": "code",
      "source": [
        "4.# Describe how dictionaries store data\n",
        "# Dictionaries in Python store data as key-value pairs, where each unique key is associated with a specific value\n",
        "my_dict={\n",
        "    \"name\":\"akanksha chaurasia\",\n",
        "    \"subject\":\"data science\",\n",
        "    \"age\":\"22\"\n",
        "}\n",
        "print(my_dict)\n"
      ],
      "metadata": {
        "colab": {
          "base_uri": "https://localhost:8080/"
        },
        "id": "ChHOxHu5c5Mi",
        "outputId": "cc69e64c-6b5e-4c2b-a20d-f2843f27efdf"
      },
      "execution_count": null,
      "outputs": [
        {
          "output_type": "stream",
          "name": "stdout",
          "text": [
            "{'name': 'akanksha chaurasia', 'subject': 'data science', 'age': '22'}\n"
          ]
        }
      ]
    },
    {
      "cell_type": "markdown",
      "source": [
        "5. Why might you use a set instead of a list in Python ?\n",
        "   - we might use a set instead of a list in Python when we need to ensure all elements are unique and want efficient membership testing. Sets automatically remove duplicate items and provide faster operations for checking the presence of elements, thanks to their hash table implementation. Additionally, sets support built-in methods for mathematical operations like union and intersection, which are not directly available with lists. This makes sets ideal for scenarios where order is irrelevant, and uniqueness and performance are priorities."
      ],
      "metadata": {
        "id": "fKpU6s2ydsZx"
      }
    },
    {
      "cell_type": "markdown",
      "source": [
        "6. What is a string in Python, and how is it different from a list\n",
        "   - A string in Python is a sequence of characters enclosed within single quotes (') or double quotes (\"). Strings are immutable, meaning once created, their contents cannot be changed. This immutability ensures that string operations always produce a new string rather than modifying the original one.\n",
        "\n",
        "     In contrast, a list is a collection of items that can be of different data types, enclosed within square brackets ([]). Lists are mutable, allowing for modification of their contents, such as adding, removing, or changing elements."
      ],
      "metadata": {
        "id": "WoGrWGFMewyj"
      }
    },
    {
      "cell_type": "markdown",
      "source": [
        "7. How do tuples ensure data integrity in Python ?\n",
        "   - Tuples ensure data integrity in Python by being immutable, meaning that once a tuple is created, its contents cannot be changed. This immutability prevents accidental modification of the data, which is particularly useful when we want to guarantee that the data remains constant throughout the program."
      ],
      "metadata": {
        "id": "eNKslsB9fUtt"
      }
    },
    {
      "cell_type": "markdown",
      "source": [
        "8. What is a hash table, and how does it relate to dictionaries in Python ?\n",
        "   - A hash table is a data structure that stores key-value pairs, where a hash function is used to compute an index (hash) for each key. This index determines where the corresponding value is stored in the table. Hash tables enable efficient data retrieval, insertion, and deletion operations, typically with an average time complexity of O(1), because the hash function directly maps keys to specific locations in the table.\n",
        "\n",
        "     In Python, dictionaries are implemented using hash tables. When you insert a key-value pair into a dictionary, Python applies a hash function to the key to determine the position where the value should be stored. If the key already exists, the dictionary updates the value associated with that key. This structure allows dictionaries to quickly look up, add, or modify values based on their keys.\n"
      ],
      "metadata": {
        "id": "MliEXGdsfunD"
      }
    },
    {
      "cell_type": "markdown",
      "source": [
        "9. Can lists contain different data types in Python?\n",
        "   - Yes, lists in Python can contain elements of different data types.A list is a heterogeneous collection, meaning that it can store integers, strings, floating-point numbers, booleans, other lists, or even custom objects—all within the same list."
      ],
      "metadata": {
        "id": "iKzD8t4mh0TA"
      }
    },
    {
      "cell_type": "markdown",
      "source": [
        "10. Explain why strings are immutable in Python?\n",
        "   - Strings are immutable in Python to ensure data integrity,improves performance, ensures consistency, and supports safe and efficient use in various data structures and multi-threaded environments.\n",
        "\n",
        "\n",
        "\n",
        "\n",
        "\n",
        "\n"
      ],
      "metadata": {
        "id": "eoCrYPlwiWAf"
      }
    },
    {
      "cell_type": "markdown",
      "source": [
        "11. What advantages do dictionaries offer over lists for certain tasks?\n",
        "   - Dictionaries offer several advantages over lists for certain tasks due to their key-value structure and underlying hash table implementation.Dictionaries are better suited for tasks that involve fast lookups, need for unique identifiers, or require meaningful associations between data, while lists are more suitable for ordered collections where elements can be accessed by position."
      ],
      "metadata": {
        "id": "qTN5XYuejlcg"
      }
    },
    {
      "cell_type": "markdown",
      "source": [
        "12. Describe a scenario where using a tuple would be preferable over a list?\n",
        "   - A scenario where using a tuple would be preferable over a list is when we need to store a fixed collection of related values that should not be modified, ensuring data integrity. For example, consider representing the coordinates of a geographical location (latitude, longitude, and altitude)."
      ],
      "metadata": {
        "id": "VH16lZoakMxY"
      }
    },
    {
      "cell_type": "markdown",
      "source": [
        "13. How do sets handle duplicate values in Python?\n",
        "   - In Python, sets automatically handle duplicate values by eliminating them. A set is an unordered collection of unique elements, so when we try to add an element that already exists in the set, it will not be added again. This ensures that each element in a set is distinct."
      ],
      "metadata": {
        "id": "ai0EIjZpllu3"
      }
    },
    {
      "cell_type": "code",
      "source": [
        "14.# How does the “in” keyword work differently for lists and dictionaries ?\n",
        " # in keyword with a list in Python checks whether the specified element exists as a value in the list.\n",
        "my_list = [1, 2, 3, 4]\n",
        "print(3 in my_list)\n",
        "print(5 in my_list)\n",
        "print(my_list)\n",
        "# in keyword with a dictionary, it checks whether the specified key exists as a key in the dictionary, not the value.\n",
        "my_dict={\"a\":1,\"b\":2,\"c\":3}\n",
        "print(\"a\" in my_dict)\n",
        "print(\"d\" in my_dict)\n",
        "print(my_dict)\n",
        "\n"
      ],
      "metadata": {
        "colab": {
          "base_uri": "https://localhost:8080/"
        },
        "id": "zR1CZEwMrkLH",
        "outputId": "21f4f6fc-e9fe-4e19-dd5b-c628a7a17b33"
      },
      "execution_count": null,
      "outputs": [
        {
          "output_type": "stream",
          "name": "stdout",
          "text": [
            "True\n",
            "False\n",
            "[1, 2, 3, 4]\n",
            "True\n",
            "False\n",
            "{'a': 1, 'b': 2, 'c': 3}\n"
          ]
        }
      ]
    },
    {
      "cell_type": "markdown",
      "source": [
        "15. Can you modify the elements of a tuple? Explain why or why not?\n",
        "   - No, we cannot modify elements of a tuple because tuple are immutable."
      ],
      "metadata": {
        "id": "Hczd4aU5uZwv"
      }
    },
    {
      "cell_type": "code",
      "source": [
        "16.# What is a nested dictionary, and give an example of its use case ?\n",
        "# A nested dictionary is a dictionary in Python where the values associated with some keys are themselves dictionaries. This allows you to represent more complex data structures where you can store multiple layers of key-value pairs within a single dictionary.\n",
        "student={\"name\":\"akansha chaurasia\",\n",
        "         \"subject\":{\n",
        "             \"physics\":89,\n",
        "             \"chemistry\":90,\n",
        "             \"maths\":95\n",
        "         }\n",
        "         }\n",
        "print(student)"
      ],
      "metadata": {
        "colab": {
          "base_uri": "https://localhost:8080/"
        },
        "id": "jl3UlNiauzZf",
        "outputId": "3d8f8f1f-8bf2-4eb6-fa72-3d810b1e4e9c"
      },
      "execution_count": null,
      "outputs": [
        {
          "output_type": "stream",
          "name": "stdout",
          "text": [
            "{'name': 'akansha chaurasia', 'subject': {'physics': 89, 'chemistry': 90, 'maths': 95}}\n"
          ]
        }
      ]
    },
    {
      "cell_type": "markdown",
      "source": [
        "17. Describe the time complexity of accessing elements in a dictionary?\n",
        "   - The time complexity of accessing elements in a dictionary in Python is O(1) on average, which means that dictionary lookups are constant time operations. This efficiency is achieved due to the way dictionaries are implemented using hash tables,making it a highly efficient data structure for fast lookups,making it a highly efficient data structure for fast lookups."
      ],
      "metadata": {
        "id": "ODkqXI_rxJWc"
      }
    },
    {
      "cell_type": "markdown",
      "source": [
        "18. In what situations are lists preferred over dictionaries ?\n",
        "   - Lists are preferred over dictionaries in situations where ordered collections and index-based access are needed, and where you don’t need to associate values with unique keys.\n",
        "   "
      ],
      "metadata": {
        "id": "zXRN6VQXyRVr"
      }
    },
    {
      "cell_type": "code",
      "source": [
        "19.# Why are dictionaries considered unordered, and how does that affect data retrieval\n",
        "# Dictionaries in Python are considered unordered because the order of key-value pairs in a dictionary is not guaranteed to be the same as the order in which they were inserted. This is a result of how dictionaries are implemented internally, using hash tables, which do not maintain insertion order by default.\n",
        "my_dict={\"a\":1,\"b\":2,\"c\":3}\n",
        "print(my_dict[\"b\"])\n",
        "print(my_dict.keys())"
      ],
      "metadata": {
        "colab": {
          "base_uri": "https://localhost:8080/"
        },
        "id": "WPcaLrfLzfLD",
        "outputId": "e1c82479-ff57-4c24-8195-dd7afafd4e6d"
      },
      "execution_count": null,
      "outputs": [
        {
          "output_type": "stream",
          "name": "stdout",
          "text": [
            "2\n",
            "dict_keys(['a', 'b', 'c'])\n"
          ]
        }
      ]
    },
    {
      "cell_type": "code",
      "source": [
        "20. #  Explain the difference between a list and a dictionary in terms of data retrieval\n",
        "#List is generally used when we need to access the data using position (index) whereas dictionary is best Best for key-value pairs, where we need to quickly access data based on unique keys.\n",
        "my_list=[1,3.0,\"ram\",True]\n",
        "print(my_list[2])\n",
        "\n",
        "#dictionary\n",
        "student={\"name\":\"akanksha chaurasia\",\n",
        "         \"age\":22,\n",
        "         \"subject\":\"data science\"\n",
        "}\n",
        "print(student[\"age\"])\n",
        "\n",
        "\n",
        "\n"
      ],
      "metadata": {
        "colab": {
          "base_uri": "https://localhost:8080/"
        },
        "id": "x0parZm51DYk",
        "outputId": "4d7bdfe4-4ffb-45d1-91fa-c5e229fe51ad"
      },
      "execution_count": null,
      "outputs": [
        {
          "output_type": "stream",
          "name": "stdout",
          "text": [
            "ram\n",
            "22\n"
          ]
        }
      ]
    },
    {
      "cell_type": "code",
      "source": [
        "name=\"akanksha chaurasia\"\n",
        "(name)"
      ],
      "metadata": {
        "colab": {
          "base_uri": "https://localhost:8080/",
          "height": 35
        },
        "id": "vrLIzM_q3nim",
        "outputId": "f68addd1-0852-4d33-ad77-7a9866c94c24"
      },
      "execution_count": 2,
      "outputs": [
        {
          "output_type": "execute_result",
          "data": {
            "text/plain": [
              "'akanksha chaurasia'"
            ],
            "application/vnd.google.colaboratory.intrinsic+json": {
              "type": "string"
            }
          },
          "metadata": {},
          "execution_count": 2
        }
      ]
    },
    {
      "cell_type": "code",
      "source": [
        "str=\"Hello World\"\n",
        "print(len(str))"
      ],
      "metadata": {
        "colab": {
          "base_uri": "https://localhost:8080/"
        },
        "id": "h7ojK8iM4IoB",
        "outputId": "ac0ba4e9-a9a9-4915-f1cb-e5de609e2fdf"
      },
      "execution_count": 3,
      "outputs": [
        {
          "output_type": "stream",
          "name": "stdout",
          "text": [
            "11\n"
          ]
        }
      ]
    },
    {
      "cell_type": "code",
      "source": [
        "str=\"Pyhton Programming\"\n",
        "print(str[0:3])"
      ],
      "metadata": {
        "colab": {
          "base_uri": "https://localhost:8080/"
        },
        "id": "a-KOSS5T4TQW",
        "outputId": "f08f2fda-f6cd-43d9-f148-3814c1c0982a"
      },
      "execution_count": 4,
      "outputs": [
        {
          "output_type": "stream",
          "name": "stdout",
          "text": [
            "Pyh\n"
          ]
        }
      ]
    },
    {
      "cell_type": "code",
      "source": [
        "str=\"hello\"\n",
        "print(str.upper())"
      ],
      "metadata": {
        "colab": {
          "base_uri": "https://localhost:8080/"
        },
        "id": "NyOyYv5Y4mUk",
        "outputId": "46bb96ef-f827-49be-bea2-8983c2b18040"
      },
      "execution_count": 5,
      "outputs": [
        {
          "output_type": "stream",
          "name": "stdout",
          "text": [
            "HELLO\n"
          ]
        }
      ]
    },
    {
      "cell_type": "code",
      "source": [
        "str=\"I like apple\"\n",
        "print(str.replace(\"apple\",\"orange\"))"
      ],
      "metadata": {
        "colab": {
          "base_uri": "https://localhost:8080/"
        },
        "id": "sPafdkN645qK",
        "outputId": "69d7ca6d-c36e-4ca5-b330-d8938723dfa5"
      },
      "execution_count": 6,
      "outputs": [
        {
          "output_type": "stream",
          "name": "stdout",
          "text": [
            "I like orange\n"
          ]
        }
      ]
    },
    {
      "cell_type": "code",
      "source": [
        "list=[1,2,3,4,5]\n",
        "print(list)"
      ],
      "metadata": {
        "colab": {
          "base_uri": "https://localhost:8080/"
        },
        "id": "EjvX6CoW5RHh",
        "outputId": "c5632a89-0583-4023-c030-24e1c44bf54e"
      },
      "execution_count": 7,
      "outputs": [
        {
          "output_type": "stream",
          "name": "stdout",
          "text": [
            "[1, 2, 3, 4, 5]\n"
          ]
        }
      ]
    },
    {
      "cell_type": "code",
      "source": [
        "list=[1,2,3,4]\n",
        "list.append(10)\n",
        "print(list)"
      ],
      "metadata": {
        "colab": {
          "base_uri": "https://localhost:8080/"
        },
        "id": "kGx4IpXM5f70",
        "outputId": "706a463e-9493-4499-a579-462c3136fbaa"
      },
      "execution_count": 8,
      "outputs": [
        {
          "output_type": "stream",
          "name": "stdout",
          "text": [
            "[1, 2, 3, 4, 10]\n"
          ]
        }
      ]
    },
    {
      "cell_type": "code",
      "source": [
        "list=[1,2,3,4,5]\n",
        "(list.remove(3))\n",
        "print(list)"
      ],
      "metadata": {
        "colab": {
          "base_uri": "https://localhost:8080/"
        },
        "id": "hAbYkvzK5-LS",
        "outputId": "5a5b728d-65c9-4c79-86f6-6fcda9b18797"
      },
      "execution_count": 15,
      "outputs": [
        {
          "output_type": "stream",
          "name": "stdout",
          "text": [
            "[1, 2, 4, 5]\n"
          ]
        }
      ]
    },
    {
      "cell_type": "code",
      "source": [
        "list=[\"a\",\"b\",\"c\",\"d\"]\n",
        "print(list[2])\n"
      ],
      "metadata": {
        "colab": {
          "base_uri": "https://localhost:8080/"
        },
        "id": "DoAlostB7C7h",
        "outputId": "18178efd-8506-444b-9cdb-af15b5b689df"
      },
      "execution_count": 16,
      "outputs": [
        {
          "output_type": "stream",
          "name": "stdout",
          "text": [
            "c\n"
          ]
        }
      ]
    },
    {
      "cell_type": "code",
      "source": [
        "list=[10,20,30,40,50]\n",
        "list.reverse()\n",
        "print(list)"
      ],
      "metadata": {
        "colab": {
          "base_uri": "https://localhost:8080/"
        },
        "id": "GNp7un8x7dso",
        "outputId": "5cf5bc2b-9e33-4af9-aac2-d7f928a7de79"
      },
      "execution_count": 17,
      "outputs": [
        {
          "output_type": "stream",
          "name": "stdout",
          "text": [
            "[50, 40, 30, 20, 10]\n"
          ]
        }
      ]
    },
    {
      "cell_type": "code",
      "source": [
        "tup=(10,20,30)\n",
        "print(tup)"
      ],
      "metadata": {
        "colab": {
          "base_uri": "https://localhost:8080/"
        },
        "id": "rNt8FAvB7vmv",
        "outputId": "38b82e8f-58b7-49ce-ef86-7c9094211968"
      },
      "execution_count": 20,
      "outputs": [
        {
          "output_type": "stream",
          "name": "stdout",
          "text": [
            "(10, 20, 30)\n"
          ]
        }
      ]
    },
    {
      "cell_type": "code",
      "source": [
        "tup=(\"apple\",\"banana\",\"cherry\")\n",
        "print(tup[1])"
      ],
      "metadata": {
        "colab": {
          "base_uri": "https://localhost:8080/"
        },
        "id": "Wsb2cSgM87OW",
        "outputId": "58b84b06-1616-40cc-d28a-25d1d8c91a17"
      },
      "execution_count": 21,
      "outputs": [
        {
          "output_type": "stream",
          "name": "stdout",
          "text": [
            "banana\n"
          ]
        }
      ]
    },
    {
      "cell_type": "code",
      "source": [
        "tup=(1,2,3,2,4,2)\n",
        "print(tup.count(2))"
      ],
      "metadata": {
        "colab": {
          "base_uri": "https://localhost:8080/"
        },
        "id": "QLqimWc59Vg5",
        "outputId": "42fa1f29-e325-41c5-c353-5a26f3759da9"
      },
      "execution_count": 22,
      "outputs": [
        {
          "output_type": "stream",
          "name": "stdout",
          "text": [
            "3\n"
          ]
        }
      ]
    },
    {
      "cell_type": "code",
      "source": [
        "tup=(\"dog\",\"cat\",\"rabbit\")\n",
        "print(tup[1])"
      ],
      "metadata": {
        "colab": {
          "base_uri": "https://localhost:8080/"
        },
        "id": "AAkJXRax9koK",
        "outputId": "16148891-1bc3-4b18-d144-1edf20f784c7"
      },
      "execution_count": 23,
      "outputs": [
        {
          "output_type": "stream",
          "name": "stdout",
          "text": [
            "cat\n"
          ]
        }
      ]
    },
    {
      "cell_type": "code",
      "source": [
        "tup=(\"apple\",\"banana\",\"orange\")\n",
        "if \"banana\" in tup:\n",
        "  print(\"yes\")\n",
        "else:\n",
        "  print(\"no\")"
      ],
      "metadata": {
        "colab": {
          "base_uri": "https://localhost:8080/"
        },
        "id": "OyGmuYKZ93lF",
        "outputId": "b6dd99c4-2ca1-43b6-b371-b9fd28057e42"
      },
      "execution_count": 25,
      "outputs": [
        {
          "output_type": "stream",
          "name": "stdout",
          "text": [
            "yes\n"
          ]
        }
      ]
    },
    {
      "cell_type": "code",
      "source": [
        "set={1,2,3,4,5}\n",
        "print(set)"
      ],
      "metadata": {
        "colab": {
          "base_uri": "https://localhost:8080/"
        },
        "id": "pfm-QTyi_EGY",
        "outputId": "c685feff-a912-46c5-d0e5-313af25ac7a9"
      },
      "execution_count": 26,
      "outputs": [
        {
          "output_type": "stream",
          "name": "stdout",
          "text": [
            "{1, 2, 3, 4, 5}\n"
          ]
        }
      ]
    },
    {
      "cell_type": "code",
      "source": [
        "set={1,2,3,4}\n",
        "(set.add(6))\n",
        "print(set)"
      ],
      "metadata": {
        "colab": {
          "base_uri": "https://localhost:8080/"
        },
        "id": "semHNOX1_TKe",
        "outputId": "a032e555-3be1-483b-abb3-6f3d049f18a4"
      },
      "execution_count": 28,
      "outputs": [
        {
          "output_type": "stream",
          "name": "stdout",
          "text": [
            "{1, 2, 3, 4, 6}\n"
          ]
        }
      ]
    },
    {
      "cell_type": "code",
      "source": [
        "tup=(10,20,30)\n",
        "print(tup)"
      ],
      "metadata": {
        "colab": {
          "base_uri": "https://localhost:8080/"
        },
        "id": "0tHbGG1tCgek",
        "outputId": "d8d550cb-4ae2-4368-d72b-19df9a347cd7"
      },
      "execution_count": 29,
      "outputs": [
        {
          "output_type": "stream",
          "name": "stdout",
          "text": [
            "(10, 20, 30)\n"
          ]
        }
      ]
    },
    {
      "cell_type": "code",
      "source": [
        "tup=(\"apple\",\"banana\",\"cherry\")\n",
        "print(tup[1])"
      ],
      "metadata": {
        "colab": {
          "base_uri": "https://localhost:8080/"
        },
        "id": "TPRM53H4CrbI",
        "outputId": "964d8cb2-dab1-4497-f9f8-f0209a3c2c31"
      },
      "execution_count": 31,
      "outputs": [
        {
          "output_type": "stream",
          "name": "stdout",
          "text": [
            "banana\n"
          ]
        }
      ]
    },
    {
      "cell_type": "code",
      "source": [
        "tup=(\"dog\",\"cat\",\"rabbit\")\n",
        "print(tup[1])"
      ],
      "metadata": {
        "colab": {
          "base_uri": "https://localhost:8080/"
        },
        "id": "4fQ5DLCiC8fQ",
        "outputId": "75b59527-5139-4fce-db28-c956847d7876"
      },
      "execution_count": 32,
      "outputs": [
        {
          "output_type": "stream",
          "name": "stdout",
          "text": [
            "cat\n"
          ]
        }
      ]
    },
    {
      "cell_type": "code",
      "source": [],
      "metadata": {
        "id": "nSRrWsaODPNC"
      },
      "execution_count": null,
      "outputs": []
    }
  ]
}